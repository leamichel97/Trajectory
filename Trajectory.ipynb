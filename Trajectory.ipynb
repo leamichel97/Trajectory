{
 "cells": [
  {
   "cell_type": "markdown",
   "metadata": {},
   "source": [
    "\n",
    "# <h1><center> <font color='red'> Trajectoire d'un lanceur </font> </h1>"
   ]
  },
  {
   "cell_type": "markdown",
   "metadata": {},
   "source": [
    "<center> Léa MICHEL (ONERA/DTIS) </center>\n",
    "<center> Sous la direction de Brieuc DANET (ONERA/DTIS) </center>\n",
    "<center> Juillet 2020 </center>"
   ]
  },
  {
   "attachments": {
    "image.png": {
     "image/png": "[encoded data removed]"
    }
   },
   "cell_type": "markdown",
   "metadata": {},
   "source": [
    "Le module trajectoire est réalisé en une analyse comportant 5 entrées et 7 sorties.\n",
    "\n",
    "Les calculs sont inspirés de :\n",
    ">- Cours de Monsieur Yves BLIN, enseignant à l’école ELISA Aerospace \n",
    "\n",
    "\n",
    "Soit $M \\\\[20pt] $ le point de largage. Afin de simplifier les calculs, nous considérons que l'impulsion est instantanée.\n",
    "\n",
    "En entrée, nous avons : \n",
    "- ${V_1}$ - Vitesse initiale\n",
    "- ${\\Delta V}$ - Incrément de vitessse apporté par l'impulsion\n",
    "- ${\\alpha}$ - Angle de largage\n",
    "- ${\\gamma}$ - Pente vitesse sur la nouvelle orbite au point M\n",
    "- ${\\mu}$ - Constante gravitationnelle standard\n",
    "- ${r_M}$ - Altitude de largage + rayon terre \n",
    "\n",
    "En sortie, nous obtenons les paramètres de l'orbite atteinte :\n",
    "- ${a}$ - Demi grand axe\n",
    "- ${e}$ - Excentricité\n",
    "- ${h}$ - Energie \n",
    "- ${p}$ - Paramètre de l'orbite\n",
    "- ${r_a}$ - Rayon à l'apogée\n",
    "- ${r_p}$ - Rayon au périgée\n",
    "- ${V_2}$ - Vitesse au point M\n",
    "\n",
    "\n",
    "![image.png](./Images/WO.png)\n"
   ]
  },
  {
   "cell_type": "markdown",
   "metadata": {},
   "source": [
    "## <font color='red'> Calculs </font>"
   ]
  },
  {
   "cell_type": "markdown",
   "metadata": {},
   "source": [
    "![image.png](./Images/alpha.png)"
   ]
  },
  {
   "cell_type": "markdown",
   "metadata": {},
   "source": [
    "<font color='blue'> $1^{er} cas : \\alpha = 0$ </font>\n",
    "\n",
    "Soit $M$ le point de largage, à une altitude $z_M + r_T$.\n",
    "\n",
    "${\\Delta V}$ est aligné avec le vecteur vitesse $V_1$.\n",
    "\n",
    "Conclusion : l'apogée augmente mais pas le périgée.\n"
   ]
  },
  {
   "cell_type": "markdown",
   "metadata": {},
   "source": [
    "![image.png](./Images/alphanon0.png)"
   ]
  },
  {
   "cell_type": "markdown",
   "metadata": {},
   "source": [
    "<font color='blue'> $2^{ème} cas : \\alpha \\neq 0 $ </font>\n",
    "\n",
    "Soit $V_1$ la vitesse initiale et $\\Delta V$ l'impulsion de vitesse avec une pente ${\\alpha}$.\n",
    "\n",
    "Nous obtenons le vecteur vitesse $V_2$ qui est la vitesse du lanceur après l’impulsion dans la nouvelle orbite.\n",
    "\n",
    "La pente de vitesse gamma est l'angle avec l’horizontale locale.\n"
   ]
  },
  {
   "cell_type": "markdown",
   "metadata": {},
   "source": [
    "### Calcul de $V_2 $ \n",
    "<center>\n",
    "$\\overrightarrow{\\mid\\Delta V \\mid}= f(V_1,V_2,\\alpha) \\\\[20pt] $ \n",
    "    \n",
    "<center>\n",
    "${{V_2}^2} = (V_1 + \\Delta V cos(\\alpha))^2+ (\\Delta V sin(\\alpha))^2 \\\\[20pt] $ \n",
    "\n",
    "<center>\n",
    "${{V_2}^2} = V_1^2+ 2\\Delta V*V_1cos(\\alpha) + \\Delta V ^2(cos^2(\\alpha) + sin^2(\\alpha))  \\\\[20pt] $ \n",
    "    \n",
    "<center>\n",
    "${{V_2}^2} = V_1^2 + \\Delta V ^2 + 2\\Delta V * V_1 * cos(\\alpha)  \\\\[20pt] $ \n",
    "        \n",
    "<center>\n",
    "${V_2} = \\sqrt[2]{V_1^2 + \\Delta V ^2 + 2\\Delta V * V_1 * cos(\\alpha)}  \\\\[20pt] $ \n",
    "    \n",
    "<center>\n",
    "$\\frac{V_2^2} {2} - \\frac{\\mu} {r_M} = \\frac{-\\mu} {2a} \\\\[20pt] $ \n",
    "    \n",
    "<center>\n",
    "$\\frac{V_2^2 r_M - 2\\mu} {2r_M} = \\frac{-\\mu} {2a} \\\\[20pt] $ \n",
    "   "
   ]
  },
  {
   "cell_type": "markdown",
   "metadata": {},
   "source": [
    "### Calcul de $ a $     \n",
    "<center>\n",
    "$a = \\frac{r_M \\mu} {2\\mu - V_2^2 r_M} \\\\[20pt] $\n",
    "\n",
    "\n",
    " "
   ]
  },
  {
   "cell_type": "markdown",
   "metadata": {},
   "source": [
    "### Calcul de $ h $   \n",
    "<center>\n",
    "$ h = r_M * V_2 *cos(\\gamma) = cst \\\\[20pt] $"
   ]
  },
  {
   "cell_type": "markdown",
   "metadata": {},
   "source": [
    "### Calcul de $\\gamma $"
   ]
  },
  {
   "cell_type": "markdown",
   "metadata": {},
   "source": [
    "![image.png](./Images/SchemaGamma.png)"
   ]
  },
  {
   "cell_type": "markdown",
   "metadata": {},
   "source": [
    "<center>\n",
    "$\\mid\\mid \\overrightarrow{a} \\mid\\mid = \\mid\\mid \\overrightarrow{V_1} \\mid\\mid \\\\[20pt] $\n",
    "\n",
    "<center>\n",
    "$\\mid\\mid \\overrightarrow{b} \\mid\\mid = \\mid\\mid \\overrightarrow{\\Delta V} \\mid\\mid \\\\[20pt] $\n",
    "\n",
    "<center>\n",
    "$\\mid\\mid \\overrightarrow{c} \\mid\\mid = \\mid\\mid \\overrightarrow{V_2} \\mid\\mid \\\\[20pt] $\n",
    "\n",
    "<center>\n",
    "$ b^2 = a^2 +c^2 -2ac * cos(\\gamma) \\\\[20pt] $\n",
    "\n",
    "<center>\n",
    "$ cos(\\gamma) = \\frac {a^2+c^2-b^2}{2ac}\\\\[20pt] $\n",
    "\n",
    "<center>\n",
    "$ cos(\\gamma) = \\frac {V_1^2+V_2^2-\\Delta v^2}{2V_1V_2}\\\\[20pt] $\n",
    "\n",
    "<center>\n",
    "${\\gamma}= arccos (\\frac {V_1^2+V_2^2-\\Delta V^2}{2V_1V_2})\\\\[20pt] $"
   ]
  },
  {
   "cell_type": "markdown",
   "metadata": {},
   "source": [
    "### Calcul de $ p $     \n",
    " \n",
    "<center>\n",
    "$ p = \\frac{r_M^2 V_2^2 cos^2(\\gamma)} {\\mu} = \\frac{h^2} {\\mu} \\\\[20pt] $\n",
    "    "
   ]
  },
  {
   "cell_type": "markdown",
   "metadata": {},
   "source": [
    "### Calcul de $ e $    \n",
    "<center>\n",
    "$ p = a (1 - e^2) => e = \\sqrt[2]{1 - \\frac{p}{a}} \\\\[20pt] $\n"
   ]
  },
  {
   "cell_type": "markdown",
   "metadata": {},
   "source": [
    "### Calcul de $ r_p $  \n",
    "<center>\n",
    "$ r_p = a (1 - e) \\\\[20pt] $"
   ]
  },
  {
   "cell_type": "markdown",
   "metadata": {},
   "source": [
    "### Calcul de $ r_a $ \n",
    "<center>\n",
    "$ r_a = a (1 + e) \\\\[20pt] $"
   ]
  },
  {
   "cell_type": "markdown",
   "metadata": {},
   "source": [
    "## <font color='red'> Paramètres </font>"
   ]
  },
  {
   "cell_type": "markdown",
   "metadata": {},
   "source": [
    "Il est possible de modifier les paramètres ci dessous :"
   ]
  },
  {
   "cell_type": "code",
   "execution_count": 1,
   "metadata": {},
   "outputs": [],
   "source": [
    "def initialize(mda):\n",
    "\n",
    "    mda['alpha'] = 0 # en degrès\n",
    "    mda['DeltaV'] = 10 # en km/s\n",
    "    mda['mu'] = 398600 # en km/s^-2\n",
    "    mda['r_M'] = 6388.0 # R_t + 10 km \n",
    "    mda['V1'] = 0.1797 # en km/s"
   ]
  },
  {
   "cell_type": "markdown",
   "metadata": {},
   "source": [
    "## <font color='red'> Résultat </font>"
   ]
  },
  {
   "cell_type": "code",
   "execution_count": 2,
   "metadata": {},
   "outputs": [
    {
     "name": "stdout",
     "output_type": "stream",
     "text": [
      "Unable to import mpi4py. Parallel processing unavailable.\n",
      "NL: NLBGS Converged in 1 iterations\n"
     ]
    }
   ],
   "source": [
    "# -*- coding: utf-8 -*-\n",
    "\"\"\"\n",
    "  run_analysis.py generated by WhatsOpt 1.9.4\n",
    "\"\"\"\n",
    "# DO NOT EDIT unless you know what you are doing\n",
    "# analysis_id: 735\n",
    "\n",
    "from openmdao.api import Problem\n",
    "#from run_parameters_init import initialize\n",
    "from trajectory_version2 import TrajectoryVersion2 \n",
    "\n",
    "pb = Problem(TrajectoryVersion2())\n",
    "pb.setup()  \n",
    "\n",
    "initialize(pb)\n",
    "\n",
    "pb.run_model()   \n",
    "#pb.model.list_inputs(print_arrays=False)"
   ]
  },
  {
   "cell_type": "code",
   "execution_count": 3,
   "metadata": {},
   "outputs": [
    {
     "name": "stdout",
     "output_type": "stream",
     "text": [
      "12 Explicit Output(s) in 'model'\n",
      "--------------------------------\n",
      "\n",
      "varname       value           \n",
      "------------  ----------------\n",
      "model\n",
      "  indeps\n",
      "    alpha     [0.]            \n",
      "    DeltaV    [10.]           \n",
      "    mu        [398600.]       \n",
      "    r_M       [6388.]         \n",
      "    V1        [0.1797]        \n",
      "  Trajectory\n",
      "    a         [18828.35187485]\n",
      "    e         [0.66072442]    \n",
      "    h         [65027.9236]    \n",
      "    p         [10608.7075959] \n",
      "    ra        [31268.7037497] \n",
      "    rp        [6388.]         \n",
      "    V2        [10.1797]       \n",
      "\n",
      "\n",
      "0 Implicit Output(s) in 'model'\n",
      "-------------------------------\n",
      "\n"
     ]
    },
    {
     "data": {
      "text/plain": [
       "[('indeps.alpha', {'value': array([0.])}),\n",
       " ('indeps.DeltaV', {'value': array([10.])}),\n",
       " ('indeps.mu', {'value': array([398600.])}),\n",
       " ('indeps.r_M', {'value': array([6388.])}),\n",
       " ('indeps.V1', {'value': array([0.1797])}),\n",
       " ('Trajectory.a', {'value': array([18828.35187485])}),\n",
       " ('Trajectory.e', {'value': array([0.66072442])}),\n",
       " ('Trajectory.h', {'value': array([65027.9236])}),\n",
       " ('Trajectory.p', {'value': array([10608.7075959])}),\n",
       " ('Trajectory.ra', {'value': array([31268.7037497])}),\n",
       " ('Trajectory.rp', {'value': array([6388.])}),\n",
       " ('Trajectory.V2', {'value': array([10.1797])})]"
      ]
     },
     "execution_count": 3,
     "metadata": {},
     "output_type": "execute_result"
    }
   ],
   "source": [
    "pb.model.list_outputs(print_arrays=False)"
   ]
  },
  {
   "cell_type": "markdown",
   "metadata": {},
   "source": [
    "## <font color='red'> Diagramme N2 </font>"
   ]
  },
  {
   "cell_type": "code",
   "execution_count": 4,
   "metadata": {},
   "outputs": [
    {
     "data": {
      "text/html": [
       "\n",
       "        <iframe\n",
       "            width=\"1300\"\n",
       "            height=\"700\"\n",
       "            src=\"n2.html\"\n",
       "            frameborder=\"0\"\n",
       "            allowfullscreen\n",
       "        ></iframe>\n",
       "        "
      ],
      "text/plain": [
       "<IPython.lib.display.IFrame at 0x7f986b813410>"
      ]
     },
     "metadata": {},
     "output_type": "display_data"
    }
   ],
   "source": [
    "from openmdao.visualization.n2_viewer.n2_viewer import n2\n",
    "n2(pb, outfile='n2.html', show_browser=False, embeddable=True, title='Trajectoire')\n",
    "\n",
    "from IPython.display import IFrame\n",
    "display(IFrame(src='n2.html',width=1300,height=700))"
   ]
  }
 ],
 "metadata": {
  "kernelspec": {
   "display_name": "Python 3",
   "language": "python",
   "name": "python3"
  },
  "language_info": {
   "codemirror_mode": {
    "name": "ipython",
    "version": 3
   },
   "file_extension": ".py",
   "mimetype": "text/x-python",
   "name": "python",
   "nbconvert_exporter": "python",
   "pygments_lexer": "ipython3",
   "version": "3.7.6"
  }
 },
 "nbformat": 4,
 "nbformat_minor": 4
}
